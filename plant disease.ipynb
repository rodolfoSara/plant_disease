{
 "cells": [
  {
   "cell_type": "code",
   "execution_count": 1,
   "id": "d92f9383",
   "metadata": {
    "scrolled": true
   },
   "outputs": [
    {
     "name": "stdout",
     "output_type": "stream",
     "text": [
      "WARNING:tensorflow:From C:\\Users\\Usuario\\anaconda3\\Lib\\site-packages\\keras\\src\\losses.py:2976: The name tf.losses.sparse_softmax_cross_entropy is deprecated. Please use tf.compat.v1.losses.sparse_softmax_cross_entropy instead.\n",
      "\n"
     ]
    }
   ],
   "source": [
    "import tensorflow as tf\n",
    "import matplotlib.pyplot as plt\n",
    "import pandas as pd\n",
    "import seaborn as sns"
   ]
  },
  {
   "cell_type": "code",
   "execution_count": 2,
   "id": "b861b0cd",
   "metadata": {},
   "outputs": [],
   "source": [
    "from tensorflow.keras.utils import image_dataset_from_directory"
   ]
  },
  {
   "cell_type": "code",
   "execution_count": 3,
   "id": "73e649fc",
   "metadata": {},
   "outputs": [],
   "source": [
    "train = r'D:\\data_science_archivos\\enfermedad de planta\\New Plant Diseases Dataset(Augmented)\\New Plant Diseases Dataset(Augmented)\\train'\n",
    "val =  r'D:\\data_science_archivos\\enfermedad de planta\\New Plant Diseases Dataset(Augmented)\\New Plant Diseases Dataset(Augmented)\\valid'"
   ]
  },
  {
   "cell_type": "code",
   "execution_count": 4,
   "id": "a8aef93b",
   "metadata": {
    "scrolled": true
   },
   "outputs": [
    {
     "name": "stdout",
     "output_type": "stream",
     "text": [
      "Found 70295 files belonging to 38 classes.\n"
     ]
    }
   ],
   "source": [
    "training_set = tf.keras.utils.image_dataset_from_directory(\n",
    "    train,\n",
    "    labels=\"inferred\",\n",
    "    label_mode=\"categorical\",\n",
    "    class_names=None,\n",
    "    color_mode=\"rgb\",\n",
    "    batch_size=32,\n",
    "    image_size=(128, 128),\n",
    "    shuffle=True,\n",
    "    seed=None,\n",
    "    validation_split=None,\n",
    "    subset=None,\n",
    "    interpolation=\"bilinear\",\n",
    "    follow_links=False,\n",
    "    crop_to_aspect_ratio=False,\n",
    "    \n",
    ")\n"
   ]
  },
  {
   "cell_type": "code",
   "execution_count": 5,
   "id": "b1023cae",
   "metadata": {},
   "outputs": [
    {
     "name": "stdout",
     "output_type": "stream",
     "text": [
      "Found 17572 files belonging to 38 classes.\n"
     ]
    }
   ],
   "source": [
    "validation_set = tf.keras.utils.image_dataset_from_directory(\n",
    "    val,\n",
    "    labels=\"inferred\",\n",
    "    label_mode=\"categorical\",\n",
    "    class_names=None,\n",
    "    color_mode=\"rgb\",\n",
    "    batch_size=32,\n",
    "    image_size=(128, 128),\n",
    "    shuffle=True,\n",
    "    seed=None,\n",
    "    validation_split=None,\n",
    "    subset=None,\n",
    "    interpolation=\"bilinear\",\n",
    "    follow_links=False,\n",
    "    crop_to_aspect_ratio=False,\n",
    "    \n",
    ")"
   ]
  },
  {
   "cell_type": "code",
   "execution_count": 6,
   "id": "77e60650",
   "metadata": {},
   "outputs": [
    {
     "data": {
      "text/plain": [
       "<_PrefetchDataset element_spec=(TensorSpec(shape=(None, 128, 128, 3), dtype=tf.float32, name=None), TensorSpec(shape=(None, 38), dtype=tf.float32, name=None))>"
      ]
     },
     "execution_count": 6,
     "metadata": {},
     "output_type": "execute_result"
    }
   ],
   "source": [
    "training_set"
   ]
  },
  {
   "cell_type": "code",
   "execution_count": 7,
   "id": "73fea8df",
   "metadata": {
    "scrolled": true
   },
   "outputs": [
    {
     "name": "stdout",
     "output_type": "stream",
     "text": [
      "tf.Tensor(\n",
      "[[[[  0.     0.     0.  ]\n",
      "   [  0.     0.     0.  ]\n",
      "   [  0.     0.     0.  ]\n",
      "   ...\n",
      "   [  0.     0.     0.  ]\n",
      "   [  0.     0.     0.  ]\n",
      "   [  0.     0.     0.  ]]\n",
      "\n",
      "  [[  0.     0.     0.  ]\n",
      "   [  0.     0.     0.  ]\n",
      "   [  0.     0.     0.  ]\n",
      "   ...\n",
      "   [  0.     0.     0.  ]\n",
      "   [  0.     0.     0.  ]\n",
      "   [  0.     0.     0.  ]]\n",
      "\n",
      "  [[  0.     0.     0.  ]\n",
      "   [  0.     0.     0.  ]\n",
      "   [  0.     0.     0.  ]\n",
      "   ...\n",
      "   [  0.     0.     0.  ]\n",
      "   [  0.     0.     0.  ]\n",
      "   [  0.     0.     0.  ]]\n",
      "\n",
      "  ...\n",
      "\n",
      "  [[  0.     0.     0.  ]\n",
      "   [  0.     0.     0.  ]\n",
      "   [  0.     0.     0.  ]\n",
      "   ...\n",
      "   [  0.     0.     0.  ]\n",
      "   [  0.     0.     0.  ]\n",
      "   [  0.     0.     0.  ]]\n",
      "\n",
      "  [[  0.     0.     0.  ]\n",
      "   [  0.     0.     0.  ]\n",
      "   [  0.     0.     0.  ]\n",
      "   ...\n",
      "   [  0.     0.     0.  ]\n",
      "   [  0.     0.     0.  ]\n",
      "   [  0.     0.     0.  ]]\n",
      "\n",
      "  [[  0.     0.     0.  ]\n",
      "   [  0.     0.     0.  ]\n",
      "   [  0.     0.     0.  ]\n",
      "   ...\n",
      "   [  0.     0.     0.  ]\n",
      "   [  0.     0.     0.  ]\n",
      "   [  0.     0.     0.  ]]]\n",
      "\n",
      "\n",
      " [[[ 67.75  61.75  74.75]\n",
      "   [ 61.75  54.75  68.75]\n",
      "   [ 61.5   54.5   68.5 ]\n",
      "   ...\n",
      "   [ 91.5   89.   101.5 ]\n",
      "   [ 95.25  92.   105.5 ]\n",
      "   [ 92.75  89.75 103.75]]\n",
      "\n",
      "  [[130.   122.   137.  ]\n",
      "   [124.   116.   131.  ]\n",
      "   [124.25 116.25 131.25]\n",
      "   ...\n",
      "   [185.75 181.75 197.75]\n",
      "   [188.25 184.25 200.75]\n",
      "   [184.   179.75 197.5 ]]\n",
      "\n",
      "  [[129.25 120.25 137.25]\n",
      "   [118.75 109.75 126.75]\n",
      "   [108.75  99.75 116.75]\n",
      "   ...\n",
      "   [182.75 177.75 198.25]\n",
      "   [188.75 183.75 204.75]\n",
      "   [183.25 178.25 200.  ]]\n",
      "\n",
      "  ...\n",
      "\n",
      "  [[138.5  127.5  144.5 ]\n",
      "   [149.5  138.5  155.5 ]\n",
      "   [149.5  138.5  155.5 ]\n",
      "   ...\n",
      "   [193.75 185.75 198.75]\n",
      "   [194.25 186.25 199.25]\n",
      "   [192.75 184.75 197.75]]\n",
      "\n",
      "  [[142.5  131.5  148.5 ]\n",
      "   [158.25 147.25 164.25]\n",
      "   [139.   128.   145.  ]\n",
      "   ...\n",
      "   [194.5  186.5  199.5 ]\n",
      "   [195.75 187.75 200.75]\n",
      "   [194.75 186.75 199.75]]\n",
      "\n",
      "  [[143.25 132.25 149.25]\n",
      "   [143.   132.   149.  ]\n",
      "   [152.5  141.5  158.5 ]\n",
      "   ...\n",
      "   [192.25 184.25 197.25]\n",
      "   [193.75 185.75 198.75]\n",
      "   [197.   189.   202.  ]]]\n",
      "\n",
      "\n",
      " [[[172.   159.   169.  ]\n",
      "   [152.5  139.5  149.5 ]\n",
      "   [173.   160.   170.  ]\n",
      "   ...\n",
      "   [146.75 135.75 149.75]\n",
      "   [152.5  141.5  155.5 ]\n",
      "   [154.5  143.5  157.5 ]]\n",
      "\n",
      "  [[146.   133.   143.  ]\n",
      "   [158.25 145.25 155.25]\n",
      "   [163.   150.   160.  ]\n",
      "   ...\n",
      "   [152.25 141.25 155.25]\n",
      "   [149.25 138.25 152.25]\n",
      "   [157.25 146.25 160.25]]\n",
      "\n",
      "  [[169.5  156.5  166.5 ]\n",
      "   [142.5  129.5  139.5 ]\n",
      "   [165.5  152.5  162.5 ]\n",
      "   ...\n",
      "   [151.   140.   154.  ]\n",
      "   [153.5  142.5  156.5 ]\n",
      "   [139.75 128.75 142.75]]\n",
      "\n",
      "  ...\n",
      "\n",
      "  [[122.25 111.25 127.25]\n",
      "   [124.5  113.5  129.5 ]\n",
      "   [125.5  114.5  130.5 ]\n",
      "   ...\n",
      "   [137.   125.   147.  ]\n",
      "   [128.5  116.5  138.5 ]\n",
      "   [132.75 120.75 142.75]]\n",
      "\n",
      "  [[134.75 123.75 139.75]\n",
      "   [111.   100.   116.  ]\n",
      "   [117.   106.   122.  ]\n",
      "   ...\n",
      "   [141.5  129.5  151.5 ]\n",
      "   [132.   120.   142.  ]\n",
      "   [132.25 120.25 142.25]]\n",
      "\n",
      "  [[117.5  106.5  122.5 ]\n",
      "   [134.75 123.75 139.75]\n",
      "   [141.   130.   146.  ]\n",
      "   ...\n",
      "   [133.25 121.25 143.25]\n",
      "   [131.   119.   141.  ]\n",
      "   [129.5  117.5  139.5 ]]]\n",
      "\n",
      "\n",
      " ...\n",
      "\n",
      "\n",
      " [[[109.5  102.5  110.5 ]\n",
      "   [119.25 112.25 120.25]\n",
      "   [107.5  100.5  108.5 ]\n",
      "   ...\n",
      "   [ 93.    83.    91.  ]\n",
      "   [ 98.    88.    96.  ]\n",
      "   [101.25  91.25  99.25]]\n",
      "\n",
      "  [[110.25 103.25 111.25]\n",
      "   [121.   114.   122.  ]\n",
      "   [110.   103.   111.  ]\n",
      "   ...\n",
      "   [104.    94.   102.  ]\n",
      "   [ 94.5   84.5   92.5 ]\n",
      "   [ 94.25  84.25  92.25]]\n",
      "\n",
      "  [[124.75 117.75 125.75]\n",
      "   [123.   116.   124.  ]\n",
      "   [130.25 123.25 131.25]\n",
      "   ...\n",
      "   [108.25  98.25 106.25]\n",
      "   [107.    97.   105.  ]\n",
      "   [ 91.25  81.25  89.25]]\n",
      "\n",
      "  ...\n",
      "\n",
      "  [[150.25 142.25 153.25]\n",
      "   [160.25 152.25 163.25]\n",
      "   [158.   150.   161.  ]\n",
      "   ...\n",
      "   [161.5  153.5  164.5 ]\n",
      "   [157.5  149.5  160.5 ]\n",
      "   [155.75 147.75 158.75]]\n",
      "\n",
      "  [[156.25 148.25 159.25]\n",
      "   [163.   155.   166.  ]\n",
      "   [161.5  153.5  164.5 ]\n",
      "   ...\n",
      "   [155.5  147.5  158.5 ]\n",
      "   [156.25 148.25 159.25]\n",
      "   [155.5  147.5  158.5 ]]\n",
      "\n",
      "  [[165.5  157.5  168.5 ]\n",
      "   [162.   154.   165.  ]\n",
      "   [161.75 153.75 164.75]\n",
      "   ...\n",
      "   [159.5  151.5  162.5 ]\n",
      "   [161.   153.   164.  ]\n",
      "   [160.25 152.25 163.25]]]\n",
      "\n",
      "\n",
      " [[[ 51.25  74.25  45.25]\n",
      "   [ 51.75  75.75  43.75]\n",
      "   [ 55.    79.    47.  ]\n",
      "   ...\n",
      "   [122.   118.   133.  ]\n",
      "   [127.5  123.5  138.5 ]\n",
      "   [124.75 120.75 135.75]]\n",
      "\n",
      "  [[ 53.75  76.75  47.75]\n",
      "   [ 52.    76.    44.  ]\n",
      "   [ 51.25  75.25  43.25]\n",
      "   ...\n",
      "   [123.25 119.25 134.25]\n",
      "   [126.75 122.75 137.75]\n",
      "   [125.5  121.5  136.5 ]]\n",
      "\n",
      "  [[ 52.    75.    46.  ]\n",
      "   [ 57.25  81.25  49.25]\n",
      "   [ 55.    79.    47.  ]\n",
      "   ...\n",
      "   [124.75 120.75 135.75]\n",
      "   [125.25 121.25 136.25]\n",
      "   [125.75 121.75 136.75]]\n",
      "\n",
      "  ...\n",
      "\n",
      "  [[127.25 123.75 129.25]\n",
      "   [125.5  123.25 127.75]\n",
      "   [126.5  127.5  128.25]\n",
      "   ...\n",
      "   [156.5  152.5  166.5 ]\n",
      "   [156.25 152.25 166.25]\n",
      "   [154.75 150.75 164.75]]\n",
      "\n",
      "  [[129.25 122.25 129.25]\n",
      "   [132.75 124.25 131.75]\n",
      "   [127.75 120.5  127.  ]\n",
      "   ...\n",
      "   [154.5  150.5  164.5 ]\n",
      "   [154.75 150.75 164.75]\n",
      "   [156.25 152.25 166.25]]\n",
      "\n",
      "  [[133.   124.   129.  ]\n",
      "   [131.   120.   128.  ]\n",
      "   [134.   122.5  132.  ]\n",
      "   ...\n",
      "   [153.   149.   163.  ]\n",
      "   [154.25 150.25 164.25]\n",
      "   [156.75 152.75 166.75]]]\n",
      "\n",
      "\n",
      " [[[169.5  159.5  158.5 ]\n",
      "   [169.5  159.5  158.5 ]\n",
      "   [169.5  159.5  158.5 ]\n",
      "   ...\n",
      "   [132.5  122.5  120.5 ]\n",
      "   [132.75 122.75 120.75]\n",
      "   [128.75 118.75 116.75]]\n",
      "\n",
      "  [[171.5  161.5  160.5 ]\n",
      "   [171.5  161.5  160.5 ]\n",
      "   [171.5  161.5  160.5 ]\n",
      "   ...\n",
      "   [127.5  117.5  115.5 ]\n",
      "   [127.25 117.25 115.25]\n",
      "   [128.25 118.25 116.25]]\n",
      "\n",
      "  [[169.   159.   158.  ]\n",
      "   [169.   159.   158.  ]\n",
      "   [169.   159.   158.  ]\n",
      "   ...\n",
      "   [128.25 118.25 116.25]\n",
      "   [128.5  118.5  116.5 ]\n",
      "   [131.   121.   119.  ]]\n",
      "\n",
      "  ...\n",
      "\n",
      "  [[127.75 117.75 116.75]\n",
      "   [126.5  116.5  115.5 ]\n",
      "   [125.5  115.5  114.5 ]\n",
      "   ...\n",
      "   [ 96.5   88.5   85.5 ]\n",
      "   [ 95.5   87.5   84.5 ]\n",
      "   [ 98.25  90.25  87.25]]\n",
      "\n",
      "  [[125.75 115.75 114.75]\n",
      "   [128.25 118.25 117.25]\n",
      "   [127.75 117.75 116.75]\n",
      "   ...\n",
      "   [ 92.75  84.75  81.75]\n",
      "   [ 91.    83.    80.  ]\n",
      "   [ 95.    87.    84.  ]]\n",
      "\n",
      "  [[130.5  120.5  119.5 ]\n",
      "   [126.5  116.5  115.5 ]\n",
      "   [124.25 114.25 113.25]\n",
      "   ...\n",
      "   [ 97.5   89.5   86.5 ]\n",
      "   [ 91.75  83.75  80.75]\n",
      "   [ 94.25  86.25  83.25]]]], shape=(32, 128, 128, 3), dtype=float32)\n",
      "tf.Tensor(\n",
      "[[0. 0. 0. ... 0. 0. 0.]\n",
      " [0. 1. 0. ... 0. 0. 0.]\n",
      " [0. 0. 0. ... 0. 0. 0.]\n",
      " ...\n",
      " [0. 0. 0. ... 0. 0. 0.]\n",
      " [0. 0. 0. ... 0. 0. 0.]\n",
      " [0. 0. 0. ... 0. 0. 0.]], shape=(32, 38), dtype=float32)\n"
     ]
    }
   ],
   "source": [
    "for x, y in training_set.take(1):\n",
    "    print(x)\n",
    "    print(y)\n",
    "    "
   ]
  },
  {
   "cell_type": "code",
   "execution_count": 8,
   "id": "5a90ff6e",
   "metadata": {},
   "outputs": [],
   "source": [
    "from tensorflow.keras.layers import Dense, Conv2D\n",
    "from tensorflow.keras import layers"
   ]
  },
  {
   "cell_type": "code",
   "execution_count": 9,
   "id": "0f8001d9",
   "metadata": {
    "scrolled": true
   },
   "outputs": [
    {
     "name": "stdout",
     "output_type": "stream",
     "text": [
      "WARNING:tensorflow:From C:\\Users\\Usuario\\anaconda3\\Lib\\site-packages\\keras\\src\\backend.py:873: The name tf.get_default_graph is deprecated. Please use tf.compat.v1.get_default_graph instead.\n",
      "\n"
     ]
    }
   ],
   "source": [
    "model = tf.keras.models.Sequential()"
   ]
  },
  {
   "cell_type": "code",
   "execution_count": 10,
   "id": "d5230273",
   "metadata": {
    "scrolled": true
   },
   "outputs": [
    {
     "name": "stdout",
     "output_type": "stream",
     "text": [
      "WARNING:tensorflow:From C:\\Users\\Usuario\\anaconda3\\Lib\\site-packages\\keras\\src\\layers\\pooling\\max_pooling2d.py:161: The name tf.nn.max_pool is deprecated. Please use tf.nn.max_pool2d instead.\n",
      "\n"
     ]
    }
   ],
   "source": [
    "model.add(tf.keras.layers.Conv2D(filters=32,kernel_size=3,padding='same',activation='relu',input_shape=[128,128,3]))\n",
    "model.add(tf.keras.layers.Conv2D(filters=32,kernel_size=3,activation='relu'))\n",
    "model.add(tf.keras.layers.MaxPool2D(pool_size=2,strides=2))\n",
    "\n",
    "model.add(tf.keras.layers.Conv2D(filters=64,kernel_size=3,activation='relu'))\n",
    "model.add(tf.keras.layers.Conv2D(filters=64,kernel_size=3,activation='relu'))\n",
    "model.add(tf.keras.layers.MaxPool2D(pool_size=2,strides=2))\n",
    "\n",
    "model.add(tf.keras.layers.Conv2D(filters=256,kernel_size=3,activation='relu'))\n",
    "model.add(tf.keras.layers.Conv2D(filters=256,kernel_size=3,activation='relu'))\n",
    "model.add(tf.keras.layers.MaxPool2D(pool_size=2,strides=2))"
   ]
  },
  {
   "cell_type": "code",
   "execution_count": 11,
   "id": "5e3773fd",
   "metadata": {},
   "outputs": [],
   "source": [
    "model.add(tf.keras.layers.Flatten())\n",
    "model.add(tf.keras.layers.Dense(units=1500,activation='relu'))\n",
    "model.add(tf.keras.layers.Dropout(0.4))\n",
    "model.add(tf.keras.layers.Dense(units=38,activation='softmax'))\n",
    "\n"
   ]
  },
  {
   "cell_type": "code",
   "execution_count": 12,
   "id": "ce541b40",
   "metadata": {},
   "outputs": [],
   "source": [
    "model.compile(optimizer=tf.keras.optimizers.legacy.Adam(\n",
    "    learning_rate=0.0001),loss='categorical_crossentropy',metrics=['accuracy'])"
   ]
  },
  {
   "cell_type": "code",
   "execution_count": 13,
   "id": "b210fe7e",
   "metadata": {
    "scrolled": true
   },
   "outputs": [
    {
     "name": "stdout",
     "output_type": "stream",
     "text": [
      "Model: \"sequential\"\n",
      "_________________________________________________________________\n",
      " Layer (type)                Output Shape              Param #   \n",
      "=================================================================\n",
      " conv2d (Conv2D)             (None, 128, 128, 32)      896       \n",
      "                                                                 \n",
      " conv2d_1 (Conv2D)           (None, 126, 126, 32)      9248      \n",
      "                                                                 \n",
      " max_pooling2d (MaxPooling2  (None, 63, 63, 32)        0         \n",
      " D)                                                              \n",
      "                                                                 \n",
      " conv2d_2 (Conv2D)           (None, 61, 61, 64)        18496     \n",
      "                                                                 \n",
      " conv2d_3 (Conv2D)           (None, 59, 59, 64)        36928     \n",
      "                                                                 \n",
      " max_pooling2d_1 (MaxPoolin  (None, 29, 29, 64)        0         \n",
      " g2D)                                                            \n",
      "                                                                 \n",
      " conv2d_4 (Conv2D)           (None, 27, 27, 256)       147712    \n",
      "                                                                 \n",
      " conv2d_5 (Conv2D)           (None, 25, 25, 256)       590080    \n",
      "                                                                 \n",
      " max_pooling2d_2 (MaxPoolin  (None, 12, 12, 256)       0         \n",
      " g2D)                                                            \n",
      "                                                                 \n",
      " flatten (Flatten)           (None, 36864)             0         \n",
      "                                                                 \n",
      " dense (Dense)               (None, 1500)              55297500  \n",
      "                                                                 \n",
      " dropout (Dropout)           (None, 1500)              0         \n",
      "                                                                 \n",
      " dense_1 (Dense)             (None, 38)                57038     \n",
      "                                                                 \n",
      "=================================================================\n",
      "Total params: 56157898 (214.23 MB)\n",
      "Trainable params: 56157898 (214.23 MB)\n",
      "Non-trainable params: 0 (0.00 Byte)\n",
      "_________________________________________________________________\n"
     ]
    }
   ],
   "source": [
    "model.summary()"
   ]
  },
  {
   "cell_type": "code",
   "execution_count": 14,
   "id": "5e851831",
   "metadata": {
    "scrolled": true
   },
   "outputs": [
    {
     "name": "stdout",
     "output_type": "stream",
     "text": [
      "Epoch 1/10\n",
      "WARNING:tensorflow:From C:\\Users\\Usuario\\anaconda3\\Lib\\site-packages\\keras\\src\\utils\\tf_utils.py:492: The name tf.ragged.RaggedTensorValue is deprecated. Please use tf.compat.v1.ragged.RaggedTensorValue instead.\n",
      "\n",
      "WARNING:tensorflow:From C:\\Users\\Usuario\\anaconda3\\Lib\\site-packages\\keras\\src\\engine\\base_layer_utils.py:384: The name tf.executing_eagerly_outside_functions is deprecated. Please use tf.compat.v1.executing_eagerly_outside_functions instead.\n",
      "\n",
      "2197/2197 [==============================] - 1700s 773ms/step - loss: 0.9038 - accuracy: 0.7406 - val_loss: 0.2862 - val_accuracy: 0.9103\n",
      "Epoch 2/10\n",
      "2197/2197 [==============================] - 1771s 806ms/step - loss: 0.2486 - accuracy: 0.9208 - val_loss: 0.2088 - val_accuracy: 0.9350\n",
      "Epoch 3/10\n",
      "2197/2197 [==============================] - 1781s 811ms/step - loss: 0.1222 - accuracy: 0.9604 - val_loss: 0.1968 - val_accuracy: 0.9416\n",
      "Epoch 4/10\n",
      "2197/2197 [==============================] - 1712s 779ms/step - loss: 0.0861 - accuracy: 0.9710 - val_loss: 0.2158 - val_accuracy: 0.9400\n",
      "Epoch 5/10\n",
      "2197/2197 [==============================] - 5899s 3s/step - loss: 0.0610 - accuracy: 0.9800 - val_loss: 0.2017 - val_accuracy: 0.9429\n",
      "Epoch 6/10\n",
      "2197/2197 [==============================] - 1759s 799ms/step - loss: 0.0519 - accuracy: 0.9832 - val_loss: 0.1884 - val_accuracy: 0.9476\n",
      "Epoch 7/10\n",
      "2197/2197 [==============================] - 1665s 758ms/step - loss: 0.0419 - accuracy: 0.9859 - val_loss: 0.2379 - val_accuracy: 0.9383\n",
      "Epoch 8/10\n",
      "2197/2197 [==============================] - 1682s 766ms/step - loss: 0.0342 - accuracy: 0.9888 - val_loss: 0.1986 - val_accuracy: 0.9505\n",
      "Epoch 9/10\n",
      "2197/2197 [==============================] - 1767s 804ms/step - loss: 0.0328 - accuracy: 0.9891 - val_loss: 0.1878 - val_accuracy: 0.9525\n",
      "Epoch 10/10\n",
      "2197/2197 [==============================] - 1674s 761ms/step - loss: 0.0264 - accuracy: 0.9915 - val_loss: 0.1990 - val_accuracy: 0.9531\n"
     ]
    }
   ],
   "source": [
    "training_history = model.fit(x=training_set, validation_data=validation_set, epochs=10)"
   ]
  },
  {
   "cell_type": "code",
   "execution_count": 15,
   "id": "9636e66a",
   "metadata": {},
   "outputs": [
    {
     "name": "stdout",
     "output_type": "stream",
     "text": [
      "2197/2197 [==============================] - 353s 160ms/step - loss: 0.0086 - accuracy: 0.9970\n",
      "Training accuracy: 0.9969983696937561\n"
     ]
    }
   ],
   "source": [
    "train_loss, train_acc = model.evaluate(training_set)\n",
    "print('Training accuracy:', train_acc)"
   ]
  },
  {
   "cell_type": "code",
   "execution_count": 16,
   "id": "30c6d3a7",
   "metadata": {},
   "outputs": [
    {
     "name": "stdout",
     "output_type": "stream",
     "text": [
      "550/550 [==============================] - 83s 150ms/step - loss: 0.1990 - accuracy: 0.9531\n",
      "Validation accuracy: 0.9530503153800964\n"
     ]
    }
   ],
   "source": [
    "#Validation set Accuracy\n",
    "val_loss, val_acc = model.evaluate(validation_set)\n",
    "print('Validation accuracy:', val_acc)"
   ]
  },
  {
   "cell_type": "code",
   "execution_count": 17,
   "id": "a6dad363",
   "metadata": {},
   "outputs": [],
   "source": [
    "model.save('trained_plant_disease_model.keras')"
   ]
  },
  {
   "cell_type": "code",
   "execution_count": 18,
   "id": "f6b1b5a4",
   "metadata": {},
   "outputs": [
    {
     "data": {
      "text/plain": [
       "{'loss': [0.9037945866584778,\n",
       "  0.24857088923454285,\n",
       "  0.1221630722284317,\n",
       "  0.08607713878154755,\n",
       "  0.060968708246946335,\n",
       "  0.051927145570516586,\n",
       "  0.04190794751048088,\n",
       "  0.03420257195830345,\n",
       "  0.03278641775250435,\n",
       "  0.026431024074554443],\n",
       " 'accuracy': [0.7406074404716492,\n",
       "  0.9207767248153687,\n",
       "  0.9604097008705139,\n",
       "  0.9710221290588379,\n",
       "  0.9799985885620117,\n",
       "  0.983156681060791,\n",
       "  0.9859307408332825,\n",
       "  0.9888327717781067,\n",
       "  0.9891457557678223,\n",
       "  0.9914645552635193],\n",
       " 'val_loss': [0.28618744015693665,\n",
       "  0.208841934800148,\n",
       "  0.19677452743053436,\n",
       "  0.2158147096633911,\n",
       "  0.201685830950737,\n",
       "  0.18842162191867828,\n",
       "  0.23794035613536835,\n",
       "  0.19857734441757202,\n",
       "  0.18779310584068298,\n",
       "  0.1989981085062027],\n",
       " 'val_accuracy': [0.9103118777275085,\n",
       "  0.9349533319473267,\n",
       "  0.9415547251701355,\n",
       "  0.9400182366371155,\n",
       "  0.9429205656051636,\n",
       "  0.9475870728492737,\n",
       "  0.9383109211921692,\n",
       "  0.9504894018173218,\n",
       "  0.9525381326675415,\n",
       "  0.9530503153800964]}"
      ]
     },
     "execution_count": 18,
     "metadata": {},
     "output_type": "execute_result"
    }
   ],
   "source": [
    "training_history.history "
   ]
  },
  {
   "cell_type": "code",
   "execution_count": 19,
   "id": "42241943",
   "metadata": {},
   "outputs": [],
   "source": [
    "#Recording History in json\n",
    "import json\n",
    "with open('training_hist.json','w') as f:\n",
    "  json.dump(training_history.history,f)"
   ]
  },
  {
   "cell_type": "code",
   "execution_count": 20,
   "id": "b8f30e5b",
   "metadata": {},
   "outputs": [
    {
     "name": "stdout",
     "output_type": "stream",
     "text": [
      "dict_keys(['loss', 'accuracy', 'val_loss', 'val_accuracy'])\n"
     ]
    }
   ],
   "source": [
    "print(training_history.history.keys())"
   ]
  },
  {
   "cell_type": "code",
   "execution_count": 21,
   "id": "989fea4f",
   "metadata": {},
   "outputs": [
    {
     "data": {
      "image/png": "[encoded data removed]",
      "text/plain": [
       "<Figure size 640x480 with 1 Axes>"
      ]
     },
     "metadata": {},
     "output_type": "display_data"
    }
   ],
   "source": [
    "epochs = [i for i in range(1,11)]\n",
    "plt.plot(epochs,training_history.history['accuracy'],color='red',label='Training Accuracy')\n",
    "plt.plot(epochs,training_history.history['val_accuracy'],color='blue',label='Validation Accuracy')\n",
    "plt.xlabel('No. of Epochs')\n",
    "plt.title('Visualization of Accuracy Result')\n",
    "plt.legend()\n",
    "plt.show()"
   ]
  }
 ],
 "metadata": {
  "kernelspec": {
   "display_name": "Python 3 (ipykernel)",
   "language": "python",
   "name": "python3"
  },
  "language_info": {
   "codemirror_mode": {
    "name": "ipython",
    "version": 3
   },
   "file_extension": ".py",
   "mimetype": "text/x-python",
   "name": "python",
   "nbconvert_exporter": "python",
   "pygments_lexer": "ipython3",
   "version": "3.11.5"
  }
 },
 "nbformat": 4,
 "nbformat_minor": 5
}
